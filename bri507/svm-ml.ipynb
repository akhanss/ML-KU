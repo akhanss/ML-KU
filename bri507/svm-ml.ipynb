{
 "cells": [
  {
   "cell_type": "markdown",
   "metadata": {},
   "source": [
    "# IMPLEMENTATION: SVM-BASED CLASSIFICATION\n",
    "\n",
    "*This is an implementation of a classification method with Linear SVM as a part of assginment given in BRI507: INTRODUCTION TO MACHINE LEARNING coursework at Korea University, Seoul, the Republic of Korea. This code is also available at [this page](https://github.com/akhanss/ML-KU).*\n",
    "\n",
    "In this assignment we:\n",
    "    \n",
    "- will implement a SVM-based classification\n",
    "- no public library is used for SVM training and SVM prediction\n",
    "- are given three facial expression classes: angry, happy, and surprised\n",
    "- and 22 features were extracted from an image"
   ]
  },
  {
   "cell_type": "code",
   "execution_count": 1,
   "metadata": {
    "collapsed": false
   },
   "outputs": [],
   "source": [
    "# Run some setup code for this notebook.\n",
    "\n",
    "# library for numerical calculation\n",
    "import numpy as np\n",
    "\n",
    "# data analysis library in python\n",
    "import pandas as pd\n",
    "\n",
    "# random number generators and get relevant functionalities\n",
    "import random\n",
    "\n",
    "# plotting library in python\n",
    "import matplotlib.pyplot as plt\n",
    "\n",
    "# make matplotlib figures appear inline in the notebook\n",
    "%matplotlib inline\n",
    "\n",
    "plt.rcParams['figure.figsize'] = (10.0, 8.0)\n",
    "plt.rcParams['image.interpolation'] = 'nearest'\n",
    "plt.rcParams['image.cmap'] = 'gray'"
   ]
  },
  {
   "cell_type": "markdown",
   "metadata": {},
   "source": [
    "## Loading Facial Data and Preprocessing"
   ]
  },
  {
   "cell_type": "code",
   "execution_count": 2,
   "metadata": {
    "collapsed": false
   },
   "outputs": [],
   "source": [
    "# Load the facial data in a pandas dataframe (df) from excel.\n",
    "df = pd.read_excel('data/facial_expression_dataset.xlsx')"
   ]
  },
  {
   "cell_type": "code",
   "execution_count": 3,
   "metadata": {
    "collapsed": false
   },
   "outputs": [
    {
     "data": {
      "text/html": [
       "<div>\n",
       "<table border=\"1\" class=\"dataframe\">\n",
       "  <thead>\n",
       "    <tr style=\"text-align: right;\">\n",
       "      <th></th>\n",
       "      <th>Class Label</th>\n",
       "      <th>Feature 1</th>\n",
       "      <th>Feature 2</th>\n",
       "      <th>Feature 3</th>\n",
       "      <th>Feature 4</th>\n",
       "      <th>Feature 5</th>\n",
       "      <th>Feature 6</th>\n",
       "      <th>Feature 7</th>\n",
       "      <th>Feature 8</th>\n",
       "      <th>Feature 9</th>\n",
       "      <th>...</th>\n",
       "      <th>Feature 13</th>\n",
       "      <th>Feature 14</th>\n",
       "      <th>Feature 15</th>\n",
       "      <th>Feature 16</th>\n",
       "      <th>Feature 17</th>\n",
       "      <th>Feature 18</th>\n",
       "      <th>Feature 19</th>\n",
       "      <th>Feature 20</th>\n",
       "      <th>Feature 21</th>\n",
       "      <th>Feature 22</th>\n",
       "    </tr>\n",
       "  </thead>\n",
       "  <tbody>\n",
       "    <tr>\n",
       "      <th>0</th>\n",
       "      <td>1</td>\n",
       "      <td>4.1231</td>\n",
       "      <td>2.8284</td>\n",
       "      <td>6.0828</td>\n",
       "      <td>8.6023</td>\n",
       "      <td>5.0000</td>\n",
       "      <td>3.0000</td>\n",
       "      <td>5.0000</td>\n",
       "      <td>3.6056</td>\n",
       "      <td>8.6023</td>\n",
       "      <td>...</td>\n",
       "      <td>9.0554</td>\n",
       "      <td>8.9443</td>\n",
       "      <td>5.0990</td>\n",
       "      <td>4.1231</td>\n",
       "      <td>11.0454</td>\n",
       "      <td>8.6023</td>\n",
       "      <td>4.1231</td>\n",
       "      <td>14.8661</td>\n",
       "      <td>14.0000</td>\n",
       "      <td>15.2315</td>\n",
       "    </tr>\n",
       "    <tr>\n",
       "      <th>1</th>\n",
       "      <td>1</td>\n",
       "      <td>6.3246</td>\n",
       "      <td>5.0000</td>\n",
       "      <td>7.6158</td>\n",
       "      <td>6.0828</td>\n",
       "      <td>4.2426</td>\n",
       "      <td>2.2361</td>\n",
       "      <td>6.4031</td>\n",
       "      <td>4.4721</td>\n",
       "      <td>8.9443</td>\n",
       "      <td>...</td>\n",
       "      <td>12.0416</td>\n",
       "      <td>9.2195</td>\n",
       "      <td>3.6056</td>\n",
       "      <td>13.3417</td>\n",
       "      <td>12.1655</td>\n",
       "      <td>11.4018</td>\n",
       "      <td>4.1231</td>\n",
       "      <td>17.7200</td>\n",
       "      <td>16.0312</td>\n",
       "      <td>19.7231</td>\n",
       "    </tr>\n",
       "    <tr>\n",
       "      <th>2</th>\n",
       "      <td>1</td>\n",
       "      <td>5.6569</td>\n",
       "      <td>5.6569</td>\n",
       "      <td>8.5440</td>\n",
       "      <td>5.0000</td>\n",
       "      <td>3.1623</td>\n",
       "      <td>3.0000</td>\n",
       "      <td>10.0000</td>\n",
       "      <td>3.6056</td>\n",
       "      <td>10.2956</td>\n",
       "      <td>...</td>\n",
       "      <td>11.0454</td>\n",
       "      <td>7.0711</td>\n",
       "      <td>7.6158</td>\n",
       "      <td>7.2111</td>\n",
       "      <td>14.3178</td>\n",
       "      <td>8.6023</td>\n",
       "      <td>6.3246</td>\n",
       "      <td>20.5913</td>\n",
       "      <td>17.4642</td>\n",
       "      <td>18.9737</td>\n",
       "    </tr>\n",
       "    <tr>\n",
       "      <th>3</th>\n",
       "      <td>1</td>\n",
       "      <td>12.0416</td>\n",
       "      <td>13.3417</td>\n",
       "      <td>8.9443</td>\n",
       "      <td>11.1803</td>\n",
       "      <td>8.4853</td>\n",
       "      <td>6.4031</td>\n",
       "      <td>4.0000</td>\n",
       "      <td>5.8310</td>\n",
       "      <td>6.0828</td>\n",
       "      <td>...</td>\n",
       "      <td>13.3417</td>\n",
       "      <td>9.0000</td>\n",
       "      <td>6.0000</td>\n",
       "      <td>4.1231</td>\n",
       "      <td>1.4142</td>\n",
       "      <td>4.0000</td>\n",
       "      <td>8.9443</td>\n",
       "      <td>10.1980</td>\n",
       "      <td>7.6158</td>\n",
       "      <td>13.0384</td>\n",
       "    </tr>\n",
       "    <tr>\n",
       "      <th>4</th>\n",
       "      <td>1</td>\n",
       "      <td>10.0000</td>\n",
       "      <td>14.1421</td>\n",
       "      <td>13.6015</td>\n",
       "      <td>12.0830</td>\n",
       "      <td>9.8995</td>\n",
       "      <td>7.0711</td>\n",
       "      <td>4.4721</td>\n",
       "      <td>9.8489</td>\n",
       "      <td>5.0000</td>\n",
       "      <td>...</td>\n",
       "      <td>8.0000</td>\n",
       "      <td>6.4031</td>\n",
       "      <td>6.0000</td>\n",
       "      <td>7.2801</td>\n",
       "      <td>7.8102</td>\n",
       "      <td>5.3852</td>\n",
       "      <td>8.6023</td>\n",
       "      <td>10.4403</td>\n",
       "      <td>9.2195</td>\n",
       "      <td>13.8924</td>\n",
       "    </tr>\n",
       "  </tbody>\n",
       "</table>\n",
       "<p>5 rows × 23 columns</p>\n",
       "</div>"
      ],
      "text/plain": [
       "   Class Label  Feature 1  Feature 2  Feature 3  Feature 4  Feature 5  \\\n",
       "0            1     4.1231     2.8284     6.0828     8.6023     5.0000   \n",
       "1            1     6.3246     5.0000     7.6158     6.0828     4.2426   \n",
       "2            1     5.6569     5.6569     8.5440     5.0000     3.1623   \n",
       "3            1    12.0416    13.3417     8.9443    11.1803     8.4853   \n",
       "4            1    10.0000    14.1421    13.6015    12.0830     9.8995   \n",
       "\n",
       "   Feature 6  Feature 7  Feature 8  Feature 9     ...      Feature 13  \\\n",
       "0     3.0000     5.0000     3.6056     8.6023     ...          9.0554   \n",
       "1     2.2361     6.4031     4.4721     8.9443     ...         12.0416   \n",
       "2     3.0000    10.0000     3.6056    10.2956     ...         11.0454   \n",
       "3     6.4031     4.0000     5.8310     6.0828     ...         13.3417   \n",
       "4     7.0711     4.4721     9.8489     5.0000     ...          8.0000   \n",
       "\n",
       "   Feature 14  Feature 15  Feature 16  Feature 17  Feature 18  Feature 19  \\\n",
       "0      8.9443      5.0990      4.1231     11.0454      8.6023      4.1231   \n",
       "1      9.2195      3.6056     13.3417     12.1655     11.4018      4.1231   \n",
       "2      7.0711      7.6158      7.2111     14.3178      8.6023      6.3246   \n",
       "3      9.0000      6.0000      4.1231      1.4142      4.0000      8.9443   \n",
       "4      6.4031      6.0000      7.2801      7.8102      5.3852      8.6023   \n",
       "\n",
       "   Feature 20  Feature 21  Feature 22  \n",
       "0     14.8661     14.0000     15.2315  \n",
       "1     17.7200     16.0312     19.7231  \n",
       "2     20.5913     17.4642     18.9737  \n",
       "3     10.1980      7.6158     13.0384  \n",
       "4     10.4403      9.2195     13.8924  \n",
       "\n",
       "[5 rows x 23 columns]"
      ]
     },
     "execution_count": 3,
     "metadata": {},
     "output_type": "execute_result"
    }
   ],
   "source": [
    "# showing a few header rows\n",
    "df.head()"
   ]
  },
  {
   "cell_type": "code",
   "execution_count": 4,
   "metadata": {
    "collapsed": false
   },
   "outputs": [
    {
     "name": "stdout",
     "output_type": "stream",
     "text": [
      "Class Angry:  (39, 23)\n",
      "Class Happy:  (39, 23)\n",
      "Class Surprised:  (39, 23)\n"
     ]
    }
   ],
   "source": [
    "# Three facial expression classes: angry, happy, and surprised\n",
    "# Assuming Class Label = 1, 2 and 3 for expression angry, happy, and surprised respectively\n",
    "\n",
    "class_angry = df[df['Class Label'] == 1]\n",
    "class_happy = df[df['Class Label'] == 2]\n",
    "class_surprised = df[df['Class Label'] == 3]\n",
    "\n",
    "# As a sanity check, we print out the size of the three different classes.\n",
    "print 'Class Angry: ', class_angry.shape\n",
    "print 'Class Happy: ', class_happy.shape\n",
    "print 'Class Surprised: ', class_surprised.shape"
   ]
  },
  {
   "cell_type": "code",
   "execution_count": 5,
   "metadata": {
    "collapsed": false
   },
   "outputs": [
    {
     "name": "stdout",
     "output_type": "stream",
     "text": [
      "(93, 23) (18, 23)\n"
     ]
    }
   ],
   "source": [
    "# train and test set split: 80 by 20 for each class, then concatenate all classes.\n",
    "import math\n",
    "train_data = []\n",
    "test_data = []\n",
    "classes = df['Class Label'].unique()\n",
    "\n",
    "for aclass in classes:\n",
    "    class_data = df[df['Class Label'] == aclass]\n",
    "    nrows, ncols = class_data.shape[0], class_data.shape[1]\n",
    "    mask = int(math.ceil(nrows * .8))\n",
    "    train_data.append(np.array(class_data[0:mask-1]))\n",
    "    test_data.append(class_data[mask:nrows-1])\n",
    "    \n",
    "train = np.concatenate(train_data)\n",
    "test = np.concatenate(test_data)\n",
    "del class_data, train_data, test_data\n",
    "print train.shape, test.shape"
   ]
  },
  {
   "cell_type": "code",
   "execution_count": 6,
   "metadata": {
    "collapsed": false
   },
   "outputs": [
    {
     "name": "stdout",
     "output_type": "stream",
     "text": [
      "Training data shape:  (93, 22)\n",
      "Training label shape:  (93,)\n",
      "Test data shape:  (18, 22)\n",
      "Test label shape:  (18,)\n"
     ]
    }
   ],
   "source": [
    "# Final train data and label after shuffling\n",
    "np.random.shuffle(train)\n",
    "y_train = np.array(train[:, 0]).astype(int)\n",
    "X_train = train[:, 1:ncols]\n",
    "\n",
    "# Final test data and label\n",
    "np.random.shuffle(test)\n",
    "y_test = np.array(test[:, 0]).astype(int)\n",
    "X_test = test[:, 1:ncols]\n",
    "\n",
    "del train, test\n",
    "\n",
    "# As a sanity check, print out the shapes of the train and test data, and labels\n",
    "print 'Training data shape: ', X_train.shape\n",
    "print 'Training label shape: ', y_train.shape\n",
    "print 'Test data shape: ', X_test.shape\n",
    "print 'Test label shape: ', y_test.shape"
   ]
  },
  {
   "cell_type": "code",
   "execution_count": 7,
   "metadata": {
    "collapsed": false
   },
   "outputs": [
    {
     "name": "stdout",
     "output_type": "stream",
     "text": [
      "(93, 23) (18, 23)\n"
     ]
    }
   ],
   "source": [
    "# append the bias dimension of ones (i.e. bias trick) so that our SVM\n",
    "# only has to worry about optimizing a single weight matrix W.\n",
    "X_train = np.hstack([X_train, np.ones((X_train.shape[0], 1))])\n",
    "X_test = np.hstack([X_test, np.ones((X_test.shape[0], 1))])\n",
    "\n",
    "print X_train.shape, X_test.shape"
   ]
  },
  {
   "cell_type": "markdown",
   "metadata": {},
   "source": [
    "## SVM Classifier\n",
    "\n",
    "Our code for this section will all be written inside **bri507/classifiers/linear_svm.py**. \n",
    "\n",
    "Here, we will evaluate the multiclass SVM loss function. "
   ]
  },
  {
   "cell_type": "code",
   "execution_count": 48,
   "metadata": {
    "collapsed": false
   },
   "outputs": [
    {
     "name": "stdout",
     "output_type": "stream",
     "text": [
      "loss: 1.997919e+00\n"
     ]
    }
   ],
   "source": [
    "# Next implement the function svm_loss; for compute the loss and gradient\n",
    "from classifiers import svm_loss\n",
    "\n",
    "# generate a random SVM weight matrix of small numbers\n",
    "W = np.random.randn(X_train.shape[1], len(classes)) * 0.0001 \n",
    "\n",
    "# calculating loss and gradient\n",
    "loss, grad = svm_loss(W, X_train, y_train, classes, 0.00001)\n",
    "print 'loss: %e' % (loss)"
   ]
  },
  {
   "cell_type": "markdown",
   "metadata": {},
   "source": [
    "### Stochastic Gradient Descent\n",
    "\n",
    "We now will do SGD to minimize the loss."
   ]
  },
  {
   "cell_type": "code",
   "execution_count": 41,
   "metadata": {
    "collapsed": false
   },
   "outputs": [
    {
     "name": "stdout",
     "output_type": "stream",
     "text": [
      "iteration 0 / 1000: loss 5.796479\n",
      "iteration 100 / 1000: loss 3.947046\n",
      "iteration 200 / 1000: loss 3.391112\n",
      "iteration 300 / 1000: loss 3.060394\n",
      "iteration 400 / 1000: loss 3.011068\n",
      "iteration 500 / 1000: loss 2.956806\n",
      "iteration 600 / 1000: loss 3.012585\n",
      "iteration 700 / 1000: loss 2.941053\n",
      "iteration 800 / 1000: loss 2.961289\n",
      "iteration 900 / 1000: loss 2.892175\n"
     ]
    }
   ],
   "source": [
    "# In the file linear_classifier.py, we've implemented SGD in the function\n",
    "# LinearClassifier.train() and then run it with the code below.\n",
    "from classifiers import LinearSVM\n",
    "svm = LinearSVM()\n",
    "loss_hist = svm.train(X_train, y_train, classes, learning_rate=1e-7, reg=5e4,\n",
    "                      num_iters=1000, verbose=True)"
   ]
  },
  {
   "cell_type": "code",
   "execution_count": 42,
   "metadata": {
    "collapsed": false
   },
   "outputs": [
    {
     "data": {
      "image/png": "[encoded data removed]",
      "text/plain": [
       "<matplotlib.figure.Figure at 0x7f870c92b3d0>"
      ]
     },
     "metadata": {},
     "output_type": "display_data"
    }
   ],
   "source": [
    "# A useful debugging strategy is to plot the loss as a function of iteration number:\n",
    "plt.plot(loss_hist)\n",
    "plt.xlabel('# of Iterations')\n",
    "plt.ylabel('Loss value')\n",
    "plt.show()"
   ]
  },
  {
   "cell_type": "code",
   "execution_count": 38,
   "metadata": {
    "collapsed": false
   },
   "outputs": [
    {
     "name": "stdout",
     "output_type": "stream",
     "text": [
      "Test accuracy: 0.333333\n"
     ]
    }
   ],
   "source": [
    "# Now we'll implement LinearSVM.predict function and evaluate the performance on test set\n",
    "y_test_pred = svm.predict(X_test)\n",
    "print 'Test accuracy: %f' % (np.mean(y_test == y_test_pred), )"
   ]
  }
 ],
 "metadata": {
  "anaconda-cloud": {},
  "kernelspec": {
   "display_name": "Python [default]",
   "language": "python",
   "name": "python2"
  },
  "language_info": {
   "codemirror_mode": {
    "name": "ipython",
    "version": 2
   },
   "file_extension": ".py",
   "mimetype": "text/x-python",
   "name": "python",
   "nbconvert_exporter": "python",
   "pygments_lexer": "ipython2",
   "version": "2.7.12"
  }
 },
 "nbformat": 4,
 "nbformat_minor": 0
}
